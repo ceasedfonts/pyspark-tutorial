{
 "cells": [
  {
   "cell_type": "code",
   "execution_count": 369,
   "metadata": {},
   "outputs": [],
   "source": [
    "import os\n",
    "import sys\n",
    "import pyspark as ps\n",
    "from pyspark.sql import SparkSession\n",
    "from pyspark.ml import Pipeline\n",
    "from pyspark.ml.feature import VectorAssembler, StringIndexer\n",
    "from pyspark.ml.classification import LogisticRegression\n",
    "from pyspark.ml.evaluation import BinaryClassificationEvaluator"
   ]
  },
  {
   "cell_type": "code",
   "execution_count": 370,
   "metadata": {},
   "outputs": [],
   "source": [
    "\n",
    "# set up the environment\n",
    "os.environ['PYSPARK_PYTHON'] = sys.executable\n",
    "os.environ['PYSPARK_DRIVER_PYTHON'] = sys.executable\n",
    "\n",
    "# initialize a new spark session\n",
    "def new_session():\n",
    "    spark = SparkSession.builder \\\n",
    "        .master(\"local[*]\") \\\n",
    "        .appName(\"Pyspark Titanic Survival\") \\\n",
    "        .getOrCreate()\n",
    "    return spark\n",
    "\n",
    "spark = new_session()"
   ]
  },
  {
   "cell_type": "code",
   "execution_count": 371,
   "metadata": {},
   "outputs": [
    {
     "name": "stdout",
     "output_type": "stream",
     "text": [
      "root\n",
      " |-- PassengerId: integer (nullable = true)\n",
      " |-- Survived: integer (nullable = true)\n",
      " |-- Pclass: integer (nullable = true)\n",
      " |-- Name: string (nullable = true)\n",
      " |-- Sex: string (nullable = true)\n",
      " |-- Age: double (nullable = true)\n",
      " |-- SibSp: integer (nullable = true)\n",
      " |-- Parch: integer (nullable = true)\n",
      " |-- Ticket: string (nullable = true)\n",
      " |-- Fare: double (nullable = true)\n",
      " |-- Cabin: string (nullable = true)\n",
      " |-- Embarked: string (nullable = true)\n",
      "\n",
      "+-----------+--------+------+--------------------+------+----+-----+-----+----------------+-------+-----+--------+\n",
      "|PassengerId|Survived|Pclass|                Name|   Sex| Age|SibSp|Parch|          Ticket|   Fare|Cabin|Embarked|\n",
      "+-----------+--------+------+--------------------+------+----+-----+-----+----------------+-------+-----+--------+\n",
      "|          1|       0|     3|Braund, Mr. Owen ...|  male|22.0|    1|    0|       A/5 21171|   7.25| null|       S|\n",
      "|          2|       1|     1|Cumings, Mrs. Joh...|female|38.0|    1|    0|        PC 17599|71.2833|  C85|       C|\n",
      "|          3|       1|     3|Heikkinen, Miss. ...|female|26.0|    0|    0|STON/O2. 3101282|  7.925| null|       S|\n",
      "|          4|       1|     1|Futrelle, Mrs. Ja...|female|35.0|    1|    0|          113803|   53.1| C123|       S|\n",
      "|          5|       0|     3|Allen, Mr. Willia...|  male|35.0|    0|    0|          373450|   8.05| null|       S|\n",
      "+-----------+--------+------+--------------------+------+----+-----+-----+----------------+-------+-----+--------+\n",
      "only showing top 5 rows\n",
      "\n"
     ]
    }
   ],
   "source": [
    "# Load Titanic train dataset\n",
    "titanic_data = spark.read.csv(\"D:/Code Space/Datasets/titanic/train.csv\", header = True, inferSchema = True)\n",
    "\n",
    "titanic_data.printSchema()\n",
    "titanic_data.show(5)"
   ]
  },
  {
   "cell_type": "code",
   "execution_count": 372,
   "metadata": {},
   "outputs": [],
   "source": [
    "# Select relevant features for the model\n",
    "feature_selection = [\"Pclass\", \"Age\", \"Fare\", 'SibSp', \"Parch\", \"Sex\", \"Embarked\"]\n",
    "\n",
    "# Create a new dataframe with the selected features\n",
    "feature_cols = [\"Pclass\", \"Age\", \"Fare\", 'SibSp', \"Parch\", \"SexIndex\", \"EmbarkedIndex\"]\n",
    "\n",
    "# Handle missing values\n",
    "titanic_data = titanic_data.fillna({\"Age\": titanic_data.agg({\"Age\": \"mean\"}).collect()[0][0]})"
   ]
  },
  {
   "cell_type": "code",
   "execution_count": 373,
   "metadata": {},
   "outputs": [],
   "source": [
    "# Encoding categorical features\n",
    "indexers = [StringIndexer(inputCol = col, outputCol = col + \"Index\").fit(titanic_data).setHandleInvalid(\"skip\") for col in [\"Sex\", \"Embarked\"]]\n",
    "\n",
    "# Create a pipeline object\n",
    "pipeline = Pipeline(stages = indexers)\n",
    "\n",
    "# Fit and transform the data\n",
    "titanic_data = pipeline.fit(titanic_data).transform(titanic_data)"
   ]
  },
  {
   "cell_type": "code",
   "execution_count": 374,
   "metadata": {},
   "outputs": [],
   "source": [
    "# VectorAssembler is a transformer that combines a given list of columns into a single vector column\n",
    "assembler = VectorAssembler(inputCols = feature_cols, outputCol = \"features\")\n",
    "\n",
    "# Transform the data\n",
    "titanic_data = assembler.transform(titanic_data)"
   ]
  },
  {
   "cell_type": "code",
   "execution_count": 375,
   "metadata": {},
   "outputs": [],
   "source": [
    "# Split the data into training and test sets (20% held out for testing)\n",
    "(training_data, test_data) = titanic_data.randomSplit([0.8, 0.2], seed=1234)"
   ]
  },
  {
   "cell_type": "code",
   "execution_count": 376,
   "metadata": {},
   "outputs": [],
   "source": [
    "# Create logistic regression model to predict whether a customer will survive or not\n",
    "lr = LogisticRegression(featuresCol = \"features\", labelCol = \"Survived\")"
   ]
  },
  {
   "cell_type": "code",
   "execution_count": 377,
   "metadata": {},
   "outputs": [
    {
     "data": {
      "text/markdown": [
       "Model Formula: $log(p / (1 - p)) = 2.1615 + -1.0634 * Pclass + -0.0426 * Age + 0.0030 * SibSp + -0.3351 * Parch + -0.0888 * SexIndex + 2.6528 * EmbarkIndex$"
      ],
      "text/plain": [
       "<IPython.core.display.Markdown object>"
      ]
     },
     "metadata": {},
     "output_type": "display_data"
    }
   ],
   "source": [
    "# Train the model using Logistic Regression and show coefficients and intercepts\n",
    "from IPython.display import display, Markdown\n",
    "\n",
    "lr_model = lr.fit(training_data)\n",
    "coefficients = lr_model.coefficients\n",
    "intercept = lr_model.intercept\n",
    "\n",
    "# Creating the formula string\n",
    "formula = \"log(p / (1 - p)) = {:.4f} + {:.4f} * Pclass + {:.4f} * Age + {:.4f} * SibSp + {:.4f} * Parch + {:.4f} * SexIndex + {:.4f} * EmbarkIndex\".format(\n",
    "    intercept, coefficients[0], coefficients[1], coefficients[2], coefficients[3], coefficients[4], coefficients[5], coefficients[6]\n",
    ")\n",
    "display(Markdown(\"Model Formula: $\" + formula + \"$\"))\n"
   ]
  },
  {
   "cell_type": "code",
   "execution_count": 378,
   "metadata": {},
   "outputs": [],
   "source": [
    "# Make predictions on test data using the Transformer.transform() method\n",
    "predictions = lr_model.transform(test_data)\n",
    "table = predictions.select(\"Survived\", \"prediction\")\n",
    "predictions = predictions.select(\"Survived\", \"probability\").rdd.map(lambda row: (float(row[\"probability\"][1]), float(row[\"Survived\"]))) #\n",
    "y_pred_prob, y_true = zip(*predictions.collect())"
   ]
  },
  {
   "cell_type": "code",
   "execution_count": 379,
   "metadata": {},
   "outputs": [],
   "source": [
    "# Evaluate the performance of the model\n",
    "from sklearn.metrics import roc_curve, roc_auc_score\n",
    "\n",
    "fpr, tpr, thresholds = roc_curve(y_true, y_pred_prob)\n",
    "roc_auc = roc_auc_score(y_true, y_pred_prob) "
   ]
  },
  {
   "cell_type": "code",
   "execution_count": 380,
   "metadata": {},
   "outputs": [
    {
     "data": {
      "image/png": "[encoded data removed]",
      "text/plain": [
       "<Figure size 640x480 with 1 Axes>"
      ]
     },
     "metadata": {},
     "output_type": "display_data"
    }
   ],
   "source": [
    "import matplotlib.pyplot as plt\n",
    "\n",
    "plt.figure()\n",
    "plt.plot(fpr, tpr, color = \"darkorange\", lw = 2, label = \"ROC curve (area = %0.2f)\" % roc_auc)\n",
    "plt.plot([0, 1], [0, 1], color = \"navy\", lw = 2, linestyle = \"--\")\n",
    "plt.xlim([0.0, 1.0])\n",
    "plt.ylim([0.0, 1.05])\n",
    "plt.xlabel(\"False Positive Rate\")\n",
    "plt.ylabel(\"True Positive Rate\")\n",
    "plt.title(\"Receiver operating characteristic example\")\n",
    "plt.legend(loc = \"lower right\")\n",
    "plt.show()"
   ]
  },
  {
   "cell_type": "code",
   "execution_count": 381,
   "metadata": {},
   "outputs": [],
   "source": [
    "# End spark session\n",
    "spark.stop()"
   ]
  }
 ],
 "metadata": {
  "kernelspec": {
   "display_name": "Python 3",
   "language": "python",
   "name": "python3"
  },
  "language_info": {
   "codemirror_mode": {
    "name": "ipython",
    "version": 3
   },
   "file_extension": ".py",
   "mimetype": "text/x-python",
   "name": "python",
   "nbconvert_exporter": "python",
   "pygments_lexer": "ipython3",
   "version": "3.11.4"
  },
  "orig_nbformat": 4
 },
 "nbformat": 4,
 "nbformat_minor": 2
}
