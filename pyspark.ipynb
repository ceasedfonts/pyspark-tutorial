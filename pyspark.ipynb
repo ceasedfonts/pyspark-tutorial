{
 "cells": [
  {
   "cell_type": "code",
   "execution_count": 17,
   "metadata": {},
   "outputs": [],
   "source": [
    "# Importing the libraries\n",
    "import os\n",
    "import sys\n",
    "import pyspark as ps\n",
    "from pyspark.sql import SparkSession\n",
    "from pyspark.ml import Pipeline\n",
    "from pyspark.ml.feature import VectorAssembler, StringIndexer\n",
    "from pyspark.ml.classification import LogisticRegression\n",
    "from pyspark.ml.evaluation import BinaryClassificationEvaluator"
   ]
  },
  {
   "cell_type": "code",
   "execution_count": 18,
   "metadata": {},
   "outputs": [],
   "source": [
    "\n",
    "# Set up the environment\n",
    "os.environ['PYSPARK_PYTHON'] = sys.executable\n",
    "os.environ['PYSPARK_DRIVER_PYTHON'] = sys.executable\n",
    "\n",
    "# Initialize a new spark session\n",
    "def new_session():\n",
    "    spark = SparkSession.builder \\\n",
    "        .master(\"local[*]\") \\\n",
    "        .appName(\"Pyspark Titanic Survival\") \\\n",
    "        .getOrCreate()\n",
    "    return spark\n",
    "\n",
    "spark = new_session()"
   ]
  },
  {
   "cell_type": "code",
   "execution_count": null,
   "metadata": {},
   "outputs": [],
   "source": [
    "# Load Titanic train dataset\n",
    "titanic_data = spark.read.csv(\"train.csv\", header = True, inferSchema = True)\n",
    "\n",
    "# Print the schema of titanic_data DataFrame\n",
    "titanic_data.printSchema()\n",
    "titanic_data.show(5)"
   ]
  },
  {
   "cell_type": "code",
   "execution_count": 20,
   "metadata": {},
   "outputs": [],
   "source": [
    "# Select relevant features for the model\n",
    "feature_selection = [\"Pclass\", \"Age\", \"Fare\", 'SibSp', \"Parch\", \"Sex\", \"Embarked\"]\n",
    "\n",
    "# Create a new dataframe with the selected features\n",
    "feature_cols = [\"Pclass\", \"Age\", \"Fare\", 'SibSp', \"Parch\", \"SexIndex\", \"EmbarkedIndex\"]\n",
    "\n",
    "# Handle missing values\n",
    "titanic_data = titanic_data.fillna({\"Age\": titanic_data.agg({\"Age\": \"mean\"}).collect()[0][0]})"
   ]
  },
  {
   "cell_type": "code",
   "execution_count": 21,
   "metadata": {},
   "outputs": [],
   "source": [
    "# Encoding categorical features\n",
    "indexers = [StringIndexer(inputCol = col, outputCol = col + \"Index\").fit(titanic_data).setHandleInvalid(\"skip\") for col in [\"Sex\", \"Embarked\"]]\n",
    "\n",
    "# Create a pipeline object\n",
    "pipeline = Pipeline(stages = indexers)\n",
    "\n",
    "# Fit and transform the data\n",
    "titanic_data = pipeline.fit(titanic_data).transform(titanic_data)"
   ]
  },
  {
   "cell_type": "code",
   "execution_count": 22,
   "metadata": {},
   "outputs": [],
   "source": [
    "# VectorAssembler is a transformer that combines a given list of columns into a single vector column\n",
    "assembler = VectorAssembler(inputCols = feature_cols, outputCol = \"features\")\n",
    "\n",
    "# Transform the data\n",
    "titanic_data = assembler.transform(titanic_data)"
   ]
  },
  {
   "cell_type": "code",
   "execution_count": 23,
   "metadata": {},
   "outputs": [],
   "source": [
    "# Split the data into training and test sets (20% held out for testing)\n",
    "(training_data, test_data) = titanic_data.randomSplit([0.8, 0.2], seed=1234)"
   ]
  },
  {
   "cell_type": "code",
   "execution_count": 24,
   "metadata": {},
   "outputs": [],
   "source": [
    "# Create logistic regression model to predict whether a customer will survive or not\n",
    "lr = LogisticRegression(featuresCol = \"features\", labelCol = \"Survived\")"
   ]
  },
  {
   "cell_type": "code",
   "execution_count": null,
   "metadata": {},
   "outputs": [],
   "source": [
    "# Train the model using Logistic Regression and show coefficients and intercepts\n",
    "from IPython.display import display, Markdown\n",
    "\n",
    "lr_model = lr.fit(training_data)\n",
    "coefficients = lr_model.coefficients\n",
    "intercept = lr_model.intercept\n",
    "\n",
    "# Creating the formula string\n",
    "formula = \"log(p / (1 - p)) = {:.4f} + {:.4f} * Pclass + {:.4f} * Age + {:.4f} * SibSp + {:.4f} * Parch + {:.4f} * SexIndex + {:.4f} * EmbarkIndex\".format(\n",
    "    intercept, coefficients[0], coefficients[1], coefficients[2], coefficients[3], coefficients[4], coefficients[5], coefficients[6]\n",
    ")\n",
    "display(Markdown(\"Model Formula: $\" + formula + \"$\"))\n"
   ]
  },
  {
   "cell_type": "code",
   "execution_count": 26,
   "metadata": {},
   "outputs": [],
   "source": [
    "# Make predictions on test data using the Transformer.transform() method and convert results to a rdd.\n",
    "predictions = lr_model.transform(test_data)\n",
    "table = predictions.select(\"Survived\", \"prediction\")\n",
    "predictions = predictions.select(\"Survived\", \"probability\").rdd.map(lambda row: (float(row[\"probability\"][1]), float(row[\"Survived\"])))\n",
    "y_pred_prob, y_true = zip(*predictions.collect())"
   ]
  },
  {
   "cell_type": "code",
   "execution_count": 27,
   "metadata": {},
   "outputs": [],
   "source": [
    "# Evaluate the performance of the model\n",
    "from sklearn.metrics import roc_curve, roc_auc_score\n",
    "\n",
    "# Compute predicted probabilities: y_pred_prob, false positive rate: fpr, true positive rate: tpr, area under the curve: roc_auc\n",
    "fpr, tpr, thresholds = roc_curve(y_true, y_pred_prob)\n",
    "roc_auc = roc_auc_score(y_true, y_pred_prob) "
   ]
  },
  {
   "cell_type": "code",
   "execution_count": null,
   "metadata": {},
   "outputs": [],
   "source": [
    "import matplotlib.pyplot as plt\n",
    "\n",
    "# ROC curve\n",
    "plt.figure()\n",
    "plt.plot(fpr, tpr, color = \"darkorange\", lw = 2, label = \"ROC curve (area = %0.2f)\" % roc_auc)\n",
    "plt.plot([0, 1], [0, 1], color = \"navy\", lw = 2, linestyle = \"--\")\n",
    "plt.xlim([0.0, 1.0])\n",
    "plt.ylim([0.0, 1.05])\n",
    "plt.xlabel(\"False Positive Rate\")\n",
    "plt.ylabel(\"True Positive Rate\")\n",
    "plt.title(\"Receiver operating characteristic example\")\n",
    "plt.legend(loc = \"lower right\")\n",
    "plt.show()"
   ]
  },
  {
   "cell_type": "code",
   "execution_count": 13,
   "metadata": {},
   "outputs": [],
   "source": [
    "# End spark session\n",
    "spark.stop()"
   ]
  }
 ],
 "metadata": {
  "kernelspec": {
   "display_name": "Python 3",
   "language": "python",
   "name": "python3"
  },
  "language_info": {
   "codemirror_mode": {
    "name": "ipython",
    "version": 3
   },
   "file_extension": ".py",
   "mimetype": "text/x-python",
   "name": "python",
   "nbconvert_exporter": "python",
   "pygments_lexer": "ipython3",
   "version": "3.11.4"
  },
  "orig_nbformat": 4
 },
 "nbformat": 4,
 "nbformat_minor": 2
}
